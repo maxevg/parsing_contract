{
 "cells": [
  {
   "cell_type": "code",
   "execution_count": 1,
   "id": "185db974",
   "metadata": {
    "pycharm": {
     "name": "#%%\n"
    }
   },
   "outputs": [
    {
     "name": "stderr",
     "output_type": "stream",
     "text": [
      "C:\\Users\\Eugene\\anaconda3\\lib\\site-packages\\pandas\\core\\arrays\\masked.py:60: UserWarning: Pandas requires version '1.3.6' or newer of 'bottleneck' (version '1.3.5' currently installed).\n",
      "  from pandas.core import (\n"
     ]
    }
   ],
   "source": [
    "import pandas as pd\n",
    "import aiohttp\n",
    "import asyncio\n",
    "import re\n",
    "from tqdm import tqdm\n",
    "import warnings\n",
    "import os\n",
    "warnings.filterwarnings(\"ignore\")"
   ]
  },
  {
   "cell_type": "code",
   "execution_count": 2,
   "id": "950a5425",
   "metadata": {
    "pycharm": {
     "name": "#%%\n"
    }
   },
   "outputs": [],
   "source": [
    "ETHERSCAN_API_KEY = 'GGJU543MXKGFSRTRIGBKEDG8F4CR637M5S' # ввести свой ключ в сети эфириум\n",
    "BSCSCAN_API_KEY = 'F3ZA4NB4MEGXTWI3FNKZG73RY5CF6ZUU3N' # ввести свой ключ в сети эфириум"
   ]
  },
  {
   "cell_type": "code",
   "execution_count": 3,
   "id": "376c8ac5",
   "metadata": {
    "pycharm": {
     "name": "#%%\n"
    }
   },
   "outputs": [],
   "source": [
    "async def get_contract_source_code(address, provider) -> dict:\n",
    "    '''\n",
    "    функция, чтобы достать информацию о транзакции\n",
    "    address - адрес транзакции\n",
    "    provider - тип платформы транзакции (напр. eth)\n",
    "    '''\n",
    "    source_code: dict = {}\n",
    "    if provider == \"trx\":\n",
    "        pass\n",
    "    else:\n",
    "        _headers = {\n",
    "            \"Connection\": \"keep-alive\",\n",
    "            \"Accept-Encoding\": \"gzip, deflate, br\",\n",
    "            \"Accept\": \"*/*\",\n",
    "            \"User-Agent\": \"PostmanRuntime/7.34.0\"\n",
    "        }\n",
    "        api_key = ETHERSCAN_API_KEY\n",
    "        base_url = \"https://api.etherscan.io/api?module=contract&action=getsourcecode\"\n",
    "        \n",
    "        if provider == \"bsc\":\n",
    "            _headers = {\n",
    "                \"Connection\": \"keep-alive\",\n",
    "                \"Accept-Encoding\": \"gzip, deflate, br\",\n",
    "                \"Accept\": \"*/*\",\n",
    "            }\n",
    "            api_key = BSCSCAN_API_KEY\n",
    "            base_url = \"https://api.bscscan.com/api?module=contract&action=getsourcecode\"\n",
    "        \n",
    "        full_url = f\"{base_url}&address={address}&apikey={api_key}\"\n",
    "\n",
    "        async with aiohttp.ClientSession() as session:\n",
    "            async with session.get(full_url, headers=_headers) as response:\n",
    "                data = await response.json()\n",
    "        #print(data)\n",
    "        source_code = data[\"result\"][0]\n",
    "    \n",
    "    return source_code"
   ]
  },
  {
   "cell_type": "markdown",
   "id": "1db93b5f",
   "metadata": {},
   "source": [
    "# Читаем датасет"
   ]
  },
  {
   "cell_type": "code",
   "execution_count": 4,
   "id": "be813a4f",
   "metadata": {
    "pycharm": {
     "name": "#%%\n"
    }
   },
   "outputs": [
    {
     "data": {
      "text/html": [
       "<div>\n",
       "<style scoped>\n",
       "    .dataframe tbody tr th:only-of-type {\n",
       "        vertical-align: middle;\n",
       "    }\n",
       "\n",
       "    .dataframe tbody tr th {\n",
       "        vertical-align: top;\n",
       "    }\n",
       "\n",
       "    .dataframe thead th {\n",
       "        text-align: right;\n",
       "    }\n",
       "</style>\n",
       "<table border=\"1\" class=\"dataframe\">\n",
       "  <thead>\n",
       "    <tr style=\"text-align: right;\">\n",
       "      <th></th>\n",
       "      <th>transact</th>\n",
       "      <th>type</th>\n",
       "      <th>transferFrom</th>\n",
       "      <th>transfer</th>\n",
       "      <th>_transfer</th>\n",
       "      <th>_transferFrom</th>\n",
       "      <th>beforeTokenTransfer</th>\n",
       "      <th>_beforeTokenTransfer</th>\n",
       "    </tr>\n",
       "  </thead>\n",
       "  <tbody>\n",
       "    <tr>\n",
       "      <th>0</th>\n",
       "      <td>0x8105ed8a3be363e32c91a0904cd59e0f843d7123</td>\n",
       "      <td>eth</td>\n",
       "      <td></td>\n",
       "      <td></td>\n",
       "      <td></td>\n",
       "      <td></td>\n",
       "      <td></td>\n",
       "      <td></td>\n",
       "    </tr>\n",
       "    <tr>\n",
       "      <th>1</th>\n",
       "      <td>0xb16d3ed603d62b125c6bd45519eda40829549489</td>\n",
       "      <td>eth</td>\n",
       "      <td></td>\n",
       "      <td></td>\n",
       "      <td></td>\n",
       "      <td></td>\n",
       "      <td></td>\n",
       "      <td></td>\n",
       "    </tr>\n",
       "    <tr>\n",
       "      <th>2</th>\n",
       "      <td>0xa5978a61a90ae7217c60c7b275343ce244a053cc</td>\n",
       "      <td>eth</td>\n",
       "      <td></td>\n",
       "      <td></td>\n",
       "      <td></td>\n",
       "      <td></td>\n",
       "      <td></td>\n",
       "      <td></td>\n",
       "    </tr>\n",
       "    <tr>\n",
       "      <th>3</th>\n",
       "      <td>0x52e8ebf98ef95d373d29041182830bf13c52588f</td>\n",
       "      <td>eth</td>\n",
       "      <td></td>\n",
       "      <td></td>\n",
       "      <td></td>\n",
       "      <td></td>\n",
       "      <td></td>\n",
       "      <td></td>\n",
       "    </tr>\n",
       "    <tr>\n",
       "      <th>4</th>\n",
       "      <td>0x91e64f39c1fe14492e8fdf5a8b0f305bd218c8a1</td>\n",
       "      <td>eth</td>\n",
       "      <td></td>\n",
       "      <td></td>\n",
       "      <td></td>\n",
       "      <td></td>\n",
       "      <td></td>\n",
       "      <td></td>\n",
       "    </tr>\n",
       "    <tr>\n",
       "      <th>5</th>\n",
       "      <td>0xe460f3e0adc58357ea5e3ac1d839611dee826354</td>\n",
       "      <td>eth</td>\n",
       "      <td></td>\n",
       "      <td></td>\n",
       "      <td></td>\n",
       "      <td></td>\n",
       "      <td></td>\n",
       "      <td></td>\n",
       "    </tr>\n",
       "    <tr>\n",
       "      <th>6</th>\n",
       "      <td>0xb7c06096b7cf4622ae0da4ebc929649463c8692f</td>\n",
       "      <td>eth</td>\n",
       "      <td></td>\n",
       "      <td></td>\n",
       "      <td></td>\n",
       "      <td></td>\n",
       "      <td></td>\n",
       "      <td></td>\n",
       "    </tr>\n",
       "  </tbody>\n",
       "</table>\n",
       "</div>"
      ],
      "text/plain": [
       "                                     transact type transferFrom transfer  \\\n",
       "0  0x8105ed8a3be363e32c91a0904cd59e0f843d7123  eth                         \n",
       "1  0xb16d3ed603d62b125c6bd45519eda40829549489  eth                         \n",
       "2  0xa5978a61a90ae7217c60c7b275343ce244a053cc  eth                         \n",
       "3  0x52e8ebf98ef95d373d29041182830bf13c52588f  eth                         \n",
       "4  0x91e64f39c1fe14492e8fdf5a8b0f305bd218c8a1  eth                         \n",
       "5  0xe460f3e0adc58357ea5e3ac1d839611dee826354  eth                         \n",
       "6  0xb7c06096b7cf4622ae0da4ebc929649463c8692f  eth                         \n",
       "\n",
       "  _transfer _transferFrom beforeTokenTransfer _beforeTokenTransfer  \n",
       "0                                                                   \n",
       "1                                                                   \n",
       "2                                                                   \n",
       "3                                                                   \n",
       "4                                                                   \n",
       "5                                                                   \n",
       "6                                                                   "
      ]
     },
     "execution_count": 4,
     "metadata": {},
     "output_type": "execute_result"
    }
   ],
   "source": [
    "df = pd.read_csv('C:\\\\Users\\\\Eugene\\\\Desktop\\\\add_bsc_eth_scam_contracts.csv')\n",
    "df['transferFrom'] = ''\n",
    "df['transfer'] = ''\n",
    "df['_transfer'] = ''\n",
    "df['_transferFrom'] = ''\n",
    "df['beforeTokenTransfer'] = ''\n",
    "df['_beforeTokenTransfer'] = ''\n",
    "df_uniq = df.drop_duplicates('transact').reset_index().drop(columns=['index'])\n",
    "df_uniq"
   ]
  },
  {
   "cell_type": "markdown",
   "id": "0483d097",
   "metadata": {},
   "source": [
    "### Регулярки для вычленения необходимого кода"
   ]
  },
  {
   "cell_type": "code",
   "execution_count": 5,
   "id": "5aa9cdc5",
   "metadata": {
    "pycharm": {
     "name": "#%%\n"
    }
   },
   "outputs": [],
   "source": [
    "reForTransferFrom = '(function transferFrom){1}\\([^\\)]*\\)\\s+([a-zA-Z]+\\s+)*(returns \\([^\\)]*\\)\\s+)?\\{([^\\}]+[^\\{]*)+'\n",
    "_reForTransferFrom = '(function _transferFrom){1}\\([^\\)]*\\)\\s+([a-zA-Z]+\\s+)*(returns \\([^\\)]*\\)\\s+)?\\{([^\\}]+[^\\{]*)+'\n",
    "reForTransfer = '(function transfer){1}\\([^\\)]*\\)\\s+([a-zA-Z]+\\s+)*(returns \\([^\\)]*\\)\\s+)?\\{([^\\}]+[^\\{]*)+'\n",
    "_reForTransfer = '(function _transfer){1}\\([^\\)]*\\)\\s+([a-zA-Z]+\\s+)*(returns \\([^\\)]*\\)\\s+)?{([^\\}]+[^\\{]*)+'\n",
    "reForBeforeTokenTransfer = '(function beforeTokenTransfer){1}\\([^\\)]*\\)\\s+([a-zA-Z]+\\s+)*(returns \\([^\\)]*\\)\\s+)?\\{([^\\}]+[^\\{]*)+'\n",
    "_reForBeforeTokenTransfer = '(function _beforeTokenTransfer){1}\\([^\\)]*\\)\\s+([a-zA-Z]+\\s+)*(returns \\([^\\)]*\\)\\s+)?\\{([^\\}]+[^\\{]*)+'"
   ]
  },
  {
   "cell_type": "code",
   "execution_count": 6,
   "id": "1de9af7d",
   "metadata": {
    "pycharm": {
     "name": "#%%\n"
    }
   },
   "outputs": [],
   "source": [
    "def extractTransfer(allStr):\n",
    "    '''\n",
    "    функция, чтобы достать искомой части из source_code\n",
    "    '''\n",
    "    str_in_array = allStr.split(sep='}', maxsplit=-1)\n",
    "    finalTransferFrom = str_in_array[0] + '}'\n",
    "    remaining_part = str_in_array\n",
    "    remaining_part.pop(0)\n",
    "    \n",
    "    for i in range(1, len(str_in_array)):\n",
    "        '''print(str_in_array)\n",
    "        print('///////////////////////////////////')'''\n",
    "        if 'function' not in str_in_array[0]:\n",
    "            finalTransferFrom += str_in_array[0]\n",
    "            finalTransferFrom += '}'\n",
    "            remaining_part.pop(0)\n",
    "        else:\n",
    "            remaining_part.pop(0)\n",
    "            break\n",
    "    \n",
    "    remaining_source_code = '' \n",
    "    \n",
    "    for i in range(len(remaining_part)):\n",
    "        remaining_source_code += remaining_part[i]\n",
    "        remaining_source_code += '}'\n",
    "    #print(finalTransferFrom)\n",
    "    #print('///////////////////////////////////')\n",
    "    return finalTransferFrom, remaining_source_code"
   ]
  },
  {
   "cell_type": "code",
   "execution_count": 11,
   "id": "a8ad40ba",
   "metadata": {},
   "outputs": [],
   "source": [
    "async def extractFunction(transFunc, transRegex):\n",
    "    '''\n",
    "    функция для получения source_code транзакции и парсингом требуемой функции из него\n",
    "    transFunc - функция для парсинга\n",
    "    transRegex - регулярное выражения для этой функции\n",
    "    '''\n",
    "    for i in tqdm(range(df.shape[0])):\n",
    "        if df.loc[i, 'type'] == 'bsc':\n",
    "            source_code = await get_contract_source_code(df['transact'][i], 'bsc')\n",
    "        else:\n",
    "            source_code = await get_contract_source_code(df['transact'][i], 'eth')\n",
    "        source_code = source_code['SourceCode']\n",
    "        tr = ''\n",
    "        founded_funcs = []\n",
    "        if source_code != '':\n",
    "            num_funcs = len(re.findall(transFunc, source_code))\n",
    "            for j in range(num_funcs):\n",
    "                num_funcs = len(re.findall(transFunc, source_code))\n",
    "                receivedFunc = re.search(transRegex, source_code)\n",
    "                if receivedFunc is not None:\n",
    "                    allStr = receivedFunc.group(0)\n",
    "                    tr, source_code = extractTransfer(allStr)\n",
    "                    founded_funcs.append(tr)\n",
    "                else:\n",
    "                    tr = ''\n",
    "                    break\n",
    "                    \n",
    "        maxstr = ''\n",
    "        maxlen = float('-inf')\n",
    "        for found in founded_funcs:\n",
    "            if len(found) > maxlen:\n",
    "                maxstr = found\n",
    "                maxlen = len(found)\n",
    "        # удаление комментариев\n",
    "        maxstr = re.sub(r'//.*', '', maxstr)\n",
    "        maxstr = re.sub(r'/\\*[\\s\\S]*?\\*/', '', maxstr)\n",
    "        df.loc[i, transFunc] = maxstr"
   ]
  },
  {
   "cell_type": "code",
   "execution_count": 8,
   "id": "ef80bde9",
   "metadata": {
    "scrolled": true
   },
   "outputs": [
    {
     "name": "stderr",
     "output_type": "stream",
     "text": [
      "100%|██████████| 7/7 [00:04<00:00,  1.44it/s]\n",
      "100%|██████████| 7/7 [00:04<00:00,  1.44it/s]\n",
      "100%|██████████| 7/7 [00:04<00:00,  1.47it/s]\n",
      "100%|██████████| 7/7 [00:04<00:00,  1.47it/s]\n",
      "100%|██████████| 7/7 [00:04<00:00,  1.44it/s]\n",
      "100%|██████████| 7/7 [00:04<00:00,  1.45it/s]\n"
     ]
    }
   ],
   "source": [
    "await extractFunction('transferFrom', reForTransferFrom)\n",
    "await extractFunction('transfer', reForTransfer)\n",
    "await extractFunction('_transferFrom', _reForTransferFrom)\n",
    "await extractFunction('_transfer', _reForTransfer)\n",
    "await extractFunction('beforeTokenTransfer', reForBeforeTokenTransfer)\n",
    "await extractFunction('_beforeTokenTransfer', _reForBeforeTokenTransfer)"
   ]
  },
  {
   "cell_type": "code",
   "execution_count": 10,
   "id": "9516b99f",
   "metadata": {},
   "outputs": [],
   "source": [
    "df.to_csv('eth_bsc_done_scam_contracts.csv', index=False)"
   ]
  },
  {
   "cell_type": "code",
   "execution_count": 9,
   "id": "75d68f77",
   "metadata": {},
   "outputs": [
    {
     "data": {
      "text/html": [
       "<div>\n",
       "<style scoped>\n",
       "    .dataframe tbody tr th:only-of-type {\n",
       "        vertical-align: middle;\n",
       "    }\n",
       "\n",
       "    .dataframe tbody tr th {\n",
       "        vertical-align: top;\n",
       "    }\n",
       "\n",
       "    .dataframe thead th {\n",
       "        text-align: right;\n",
       "    }\n",
       "</style>\n",
       "<table border=\"1\" class=\"dataframe\">\n",
       "  <thead>\n",
       "    <tr style=\"text-align: right;\">\n",
       "      <th></th>\n",
       "      <th>transact</th>\n",
       "      <th>type</th>\n",
       "      <th>transferFrom</th>\n",
       "      <th>transfer</th>\n",
       "      <th>_transfer</th>\n",
       "      <th>_transferFrom</th>\n",
       "      <th>beforeTokenTransfer</th>\n",
       "      <th>_beforeTokenTransfer</th>\n",
       "    </tr>\n",
       "  </thead>\n",
       "  <tbody>\n",
       "    <tr>\n",
       "      <th>0</th>\n",
       "      <td>0x8105ed8a3be363e32c91a0904cd59e0f843d7123</td>\n",
       "      <td>eth</td>\n",
       "      <td>function transferFrom(address from, address to...</td>\n",
       "      <td>function transfer(address to, uint tokens) pub...</td>\n",
       "      <td></td>\n",
       "      <td></td>\n",
       "      <td></td>\n",
       "      <td></td>\n",
       "    </tr>\n",
       "    <tr>\n",
       "      <th>1</th>\n",
       "      <td>0xb16d3ed603d62b125c6bd45519eda40829549489</td>\n",
       "      <td>eth</td>\n",
       "      <td>function transferFrom(address _from, address _...</td>\n",
       "      <td>function transfer(address _to, uint256 _value)...</td>\n",
       "      <td></td>\n",
       "      <td></td>\n",
       "      <td></td>\n",
       "      <td></td>\n",
       "    </tr>\n",
       "    <tr>\n",
       "      <th>2</th>\n",
       "      <td>0xa5978a61a90ae7217c60c7b275343ce244a053cc</td>\n",
       "      <td>eth</td>\n",
       "      <td></td>\n",
       "      <td></td>\n",
       "      <td></td>\n",
       "      <td></td>\n",
       "      <td></td>\n",
       "      <td></td>\n",
       "    </tr>\n",
       "    <tr>\n",
       "      <th>3</th>\n",
       "      <td>0x52e8ebf98ef95d373d29041182830bf13c52588f</td>\n",
       "      <td>eth</td>\n",
       "      <td>function transferFrom(address sender, address ...</td>\n",
       "      <td>function transfer(address recipient, uint256 a...</td>\n",
       "      <td></td>\n",
       "      <td></td>\n",
       "      <td></td>\n",
       "      <td>function _beforeTokenTransfer(address from, ad...</td>\n",
       "    </tr>\n",
       "    <tr>\n",
       "      <th>4</th>\n",
       "      <td>0x91e64f39c1fe14492e8fdf5a8b0f305bd218c8a1</td>\n",
       "      <td>eth</td>\n",
       "      <td>function transferFrom(address _from, address _...</td>\n",
       "      <td>function transfer(address to, uint value) publ...</td>\n",
       "      <td></td>\n",
       "      <td></td>\n",
       "      <td></td>\n",
       "      <td></td>\n",
       "    </tr>\n",
       "    <tr>\n",
       "      <th>5</th>\n",
       "      <td>0xe460f3e0adc58357ea5e3ac1d839611dee826354</td>\n",
       "      <td>eth</td>\n",
       "      <td>function transferFrom(address sender, address ...</td>\n",
       "      <td>function transfer(address recipient, uint256 a...</td>\n",
       "      <td></td>\n",
       "      <td></td>\n",
       "      <td></td>\n",
       "      <td>function _beforeTokenTransfer(address from, ad...</td>\n",
       "    </tr>\n",
       "    <tr>\n",
       "      <th>6</th>\n",
       "      <td>0xb7c06096b7cf4622ae0da4ebc929649463c8692f</td>\n",
       "      <td>eth</td>\n",
       "      <td>function transferFrom(address sender, address ...</td>\n",
       "      <td>function transfer(address recipient, uint256 a...</td>\n",
       "      <td></td>\n",
       "      <td></td>\n",
       "      <td></td>\n",
       "      <td>function _beforeTokenTransfer(address from, ad...</td>\n",
       "    </tr>\n",
       "  </tbody>\n",
       "</table>\n",
       "</div>"
      ],
      "text/plain": [
       "                                     transact type  \\\n",
       "0  0x8105ed8a3be363e32c91a0904cd59e0f843d7123  eth   \n",
       "1  0xb16d3ed603d62b125c6bd45519eda40829549489  eth   \n",
       "2  0xa5978a61a90ae7217c60c7b275343ce244a053cc  eth   \n",
       "3  0x52e8ebf98ef95d373d29041182830bf13c52588f  eth   \n",
       "4  0x91e64f39c1fe14492e8fdf5a8b0f305bd218c8a1  eth   \n",
       "5  0xe460f3e0adc58357ea5e3ac1d839611dee826354  eth   \n",
       "6  0xb7c06096b7cf4622ae0da4ebc929649463c8692f  eth   \n",
       "\n",
       "                                        transferFrom  \\\n",
       "0  function transferFrom(address from, address to...   \n",
       "1  function transferFrom(address _from, address _...   \n",
       "2                                                      \n",
       "3  function transferFrom(address sender, address ...   \n",
       "4  function transferFrom(address _from, address _...   \n",
       "5  function transferFrom(address sender, address ...   \n",
       "6  function transferFrom(address sender, address ...   \n",
       "\n",
       "                                            transfer _transfer _transferFrom  \\\n",
       "0  function transfer(address to, uint tokens) pub...                           \n",
       "1  function transfer(address _to, uint256 _value)...                           \n",
       "2                                                                              \n",
       "3  function transfer(address recipient, uint256 a...                           \n",
       "4  function transfer(address to, uint value) publ...                           \n",
       "5  function transfer(address recipient, uint256 a...                           \n",
       "6  function transfer(address recipient, uint256 a...                           \n",
       "\n",
       "  beforeTokenTransfer                               _beforeTokenTransfer  \n",
       "0                                                                         \n",
       "1                                                                         \n",
       "2                                                                         \n",
       "3                      function _beforeTokenTransfer(address from, ad...  \n",
       "4                                                                         \n",
       "5                      function _beforeTokenTransfer(address from, ad...  \n",
       "6                      function _beforeTokenTransfer(address from, ad...  "
      ]
     },
     "execution_count": 9,
     "metadata": {},
     "output_type": "execute_result"
    }
   ],
   "source": [
    "df"
   ]
  },
  {
   "cell_type": "markdown",
   "id": "e77024fe",
   "metadata": {},
   "source": [
    "# Читаем файл транзакции"
   ]
  },
  {
   "cell_type": "code",
   "execution_count": 76,
   "id": "68d3df1c",
   "metadata": {},
   "outputs": [],
   "source": [
    "save_directory = 'C:\\\\Users\\\\Eugene\\\\Desktop\\\\' # Директория для сохранения датафрейма\n",
    "file_to_save = 'transfers_from_files.csv' # файл для сохранения датафрейма\n",
    "#file_to_read = '0x8ed9c7e4d8dfe480584cc7ef45742ac302ba27d7.sol' # файл для прочтения\n",
    "file_to_read= '0x05cb447e5bd814e728a1cd79eedb79b2e011685e.sol'"
   ]
  },
  {
   "cell_type": "code",
   "execution_count": 77,
   "id": "efc3d4c7",
   "metadata": {},
   "outputs": [],
   "source": [
    "if not os.path.exists(save_directory + file_to_save):\n",
    "    df = pd.DataFrame(columns=['transact', 'transferFrom', '_transfer', '_transferFrom'])\n",
    "    df.to_csv(save_directory + file_to_save, index=False)"
   ]
  },
  {
   "cell_type": "code",
   "execution_count": 78,
   "id": "36cdd5a4",
   "metadata": {},
   "outputs": [],
   "source": [
    "df = pd.read_csv(save_directory + file_to_save)\n",
    "index = df.shape[0]\n",
    "f = open(save_directory + file_to_read, \"r\")\n",
    "file = f.read()"
   ]
  },
  {
   "cell_type": "code",
   "execution_count": 81,
   "id": "a632dcca",
   "metadata": {},
   "outputs": [
    {
     "data": {
      "text/html": [
       "<div>\n",
       "<style scoped>\n",
       "    .dataframe tbody tr th:only-of-type {\n",
       "        vertical-align: middle;\n",
       "    }\n",
       "\n",
       "    .dataframe tbody tr th {\n",
       "        vertical-align: top;\n",
       "    }\n",
       "\n",
       "    .dataframe thead th {\n",
       "        text-align: right;\n",
       "    }\n",
       "</style>\n",
       "<table border=\"1\" class=\"dataframe\">\n",
       "  <thead>\n",
       "    <tr style=\"text-align: right;\">\n",
       "      <th></th>\n",
       "      <th>transact</th>\n",
       "      <th>transferFrom</th>\n",
       "      <th>_transfer</th>\n",
       "      <th>_transferFrom</th>\n",
       "      <th>transfer</th>\n",
       "    </tr>\n",
       "  </thead>\n",
       "  <tbody>\n",
       "    <tr>\n",
       "      <th>0</th>\n",
       "      <td>0x8ed9c7e4d8dfe480584cc7ef45742ac302ba27d7</td>\n",
       "      <td>function transferFrom(\\n\\n        address send...</td>\n",
       "      <td>function _transfer(\\n\\n        address sender,...</td>\n",
       "      <td>NaN</td>\n",
       "      <td>function transfer(address recipient, uint256 a...</td>\n",
       "    </tr>\n",
       "    <tr>\n",
       "      <th>1</th>\n",
       "      <td>0x05cb447e5bd814e728a1cd79eedb79b2e011685e</td>\n",
       "      <td>NaN</td>\n",
       "      <td>NaN</td>\n",
       "      <td>NaN</td>\n",
       "      <td>NaN</td>\n",
       "    </tr>\n",
       "  </tbody>\n",
       "</table>\n",
       "</div>"
      ],
      "text/plain": [
       "                                     transact  \\\n",
       "0  0x8ed9c7e4d8dfe480584cc7ef45742ac302ba27d7   \n",
       "1  0x05cb447e5bd814e728a1cd79eedb79b2e011685e   \n",
       "\n",
       "                                        transferFrom  \\\n",
       "0  function transferFrom(\\n\\n        address send...   \n",
       "1                                                NaN   \n",
       "\n",
       "                                           _transfer  _transferFrom  \\\n",
       "0  function _transfer(\\n\\n        address sender,...            NaN   \n",
       "1                                                NaN            NaN   \n",
       "\n",
       "                                            transfer  \n",
       "0  function transfer(address recipient, uint256 a...  \n",
       "1                                                NaN  "
      ]
     },
     "execution_count": 81,
     "metadata": {},
     "output_type": "execute_result"
    }
   ],
   "source": [
    "df"
   ]
  },
  {
   "cell_type": "markdown",
   "id": "00f05855",
   "metadata": {},
   "source": [
    "### добавление адреса транзакции работает, если название файла соответстувет шаблону transaction.sol"
   ]
  },
  {
   "cell_type": "code",
   "execution_count": 80,
   "id": "9d47990a",
   "metadata": {},
   "outputs": [],
   "source": [
    "df.loc[index, 'transact'] = str(file_to_read.split('.')[0])"
   ]
  },
  {
   "cell_type": "code",
   "execution_count": 82,
   "id": "c63dfaf0",
   "metadata": {},
   "outputs": [],
   "source": [
    "async def extractFunctionFile(source_code, transFunc, transRegex):\n",
    "    '''\n",
    "    функция для получения source_code транзакции и парсингом требуемой функции из него\n",
    "    source_code - source_code из файла\n",
    "    transFunc - функция для парсинга\n",
    "    transRegex - регулярное выражения для этой функции\n",
    "    '''\n",
    "    tr = ''\n",
    "    if file != '':\n",
    "        receivedFunc = re.search(transRegex, source_code)\n",
    "        if receivedFunc is not None:\n",
    "            allStr = receivedFunc.group(0)\n",
    "            tr = extractTransfer(allStr)\n",
    "        else:\n",
    "            tr = ''\n",
    "    df.loc[index, transFunc] = tr"
   ]
  },
  {
   "cell_type": "code",
   "execution_count": 83,
   "id": "8c3281b9",
   "metadata": {},
   "outputs": [],
   "source": [
    "await extractFunctionFile(file, 'transfer', reForTransfer)\n",
    "await extractFunctionFile(file, 'transferFrom', reForTransferFrom)\n",
    "await extractFunctionFile(file, '_transfer', _reForTransfer)\n",
    "await extractFunctionFile(file, '_transferFrom', _reForTransferFrom)"
   ]
  },
  {
   "cell_type": "code",
   "execution_count": 84,
   "id": "5b8f0fd0",
   "metadata": {},
   "outputs": [],
   "source": [
    "df.to_csv(save_directory + file_to_save, index=False)"
   ]
  },
  {
   "cell_type": "code",
   "execution_count": null,
   "id": "e3839b2d",
   "metadata": {},
   "outputs": [],
   "source": []
  }
 ],
 "metadata": {
  "kernelspec": {
   "display_name": "Python 3 (ipykernel)",
   "language": "python",
   "name": "python3"
  },
  "language_info": {
   "codemirror_mode": {
    "name": "ipython",
    "version": 3
   },
   "file_extension": ".py",
   "mimetype": "text/x-python",
   "name": "python",
   "nbconvert_exporter": "python",
   "pygments_lexer": "ipython3",
   "version": "3.9.13"
  }
 },
 "nbformat": 4,
 "nbformat_minor": 5
}
